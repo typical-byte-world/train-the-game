{
 "cells": [
  {
   "cell_type": "code",
   "execution_count": 1,
   "metadata": {},
   "outputs": [],
   "source": [
    "import numpy as np\n",
    "import pandas as pd\n",
    "import seaborn as sns\n",
    "import matplotlib.pyplot as pp"
   ]
  },
  {
   "cell_type": "code",
   "execution_count": 2,
   "metadata": {},
   "outputs": [],
   "source": [
    "data = []\n",
    "with open(\"classes_data.txt\") as f:\n",
    "    for line in f.readlines():\n",
    "        line = list(map(float, line.strip().split(\" \")))\n",
    "        data.append(line)\n",
    "\n",
    "data = np.matrix(data)"
   ]
  },
  {
   "cell_type": "code",
   "execution_count": 3,
   "metadata": {},
   "outputs": [],
   "source": [
    "ds = pd.DataFrame(data, columns=[\"x1\", \"x2\", \"x\", \"y\"])"
   ]
  },
  {
   "cell_type": "code",
   "execution_count": 4,
   "metadata": {},
   "outputs": [
    {
     "data": {
      "text/html": [
       "<div>\n",
       "<style scoped>\n",
       "    .dataframe tbody tr th:only-of-type {\n",
       "        vertical-align: middle;\n",
       "    }\n",
       "\n",
       "    .dataframe tbody tr th {\n",
       "        vertical-align: top;\n",
       "    }\n",
       "\n",
       "    .dataframe thead th {\n",
       "        text-align: right;\n",
       "    }\n",
       "</style>\n",
       "<table border=\"1\" class=\"dataframe\">\n",
       "  <thead>\n",
       "    <tr style=\"text-align: right;\">\n",
       "      <th></th>\n",
       "      <th>x1</th>\n",
       "      <th>x2</th>\n",
       "      <th>x</th>\n",
       "      <th>y</th>\n",
       "    </tr>\n",
       "  </thead>\n",
       "  <tbody>\n",
       "    <tr>\n",
       "      <th>0</th>\n",
       "      <td>186.0</td>\n",
       "      <td>206.0</td>\n",
       "      <td>200.0</td>\n",
       "      <td>0.0</td>\n",
       "    </tr>\n",
       "    <tr>\n",
       "      <th>1</th>\n",
       "      <td>186.0</td>\n",
       "      <td>206.0</td>\n",
       "      <td>200.0</td>\n",
       "      <td>0.0</td>\n",
       "    </tr>\n",
       "    <tr>\n",
       "      <th>2</th>\n",
       "      <td>185.0</td>\n",
       "      <td>203.0</td>\n",
       "      <td>200.0</td>\n",
       "      <td>0.0</td>\n",
       "    </tr>\n",
       "    <tr>\n",
       "      <th>3</th>\n",
       "      <td>185.0</td>\n",
       "      <td>203.0</td>\n",
       "      <td>200.0</td>\n",
       "      <td>0.0</td>\n",
       "    </tr>\n",
       "    <tr>\n",
       "      <th>4</th>\n",
       "      <td>185.0</td>\n",
       "      <td>203.0</td>\n",
       "      <td>200.0</td>\n",
       "      <td>0.0</td>\n",
       "    </tr>\n",
       "  </tbody>\n",
       "</table>\n",
       "</div>"
      ],
      "text/plain": [
       "      x1     x2      x    y\n",
       "0  186.0  206.0  200.0  0.0\n",
       "1  186.0  206.0  200.0  0.0\n",
       "2  185.0  203.0  200.0  0.0\n",
       "3  185.0  203.0  200.0  0.0\n",
       "4  185.0  203.0  200.0  0.0"
      ]
     },
     "execution_count": 4,
     "metadata": {},
     "output_type": "execute_result"
    }
   ],
   "source": [
    "ds.head()"
   ]
  },
  {
   "cell_type": "code",
   "execution_count": 5,
   "metadata": {},
   "outputs": [],
   "source": [
    "from sklearn.model_selection import train_test_split\n",
    "X = ds[[\"x1\", \"x2\", \"x\"]]\n",
    "y = ds[\"y\"]\n",
    "X_train, X_test, y_train, y_test = train_test_split(X, y, random_state=0)\n",
    "# from sklearn.preprocessing import MinMaxScaler\n",
    "# scaler = MinMaxScaler()\n",
    "# X_train = scaler.fit_transform(X_train)\n",
    "# X_test = scaler.transform(X_test)"
   ]
  },
  {
   "cell_type": "code",
   "execution_count": 6,
   "metadata": {},
   "outputs": [
    {
     "name": "stdout",
     "output_type": "stream",
     "text": [
      "Accuracy of Logistic regression classifier on training set: 0.72\n",
      "Accuracy of Logistic regression classifier on test set: 0.81\n"
     ]
    },
    {
     "name": "stderr",
     "output_type": "stream",
     "text": [
      "/opt/conda/lib/python3.6/site-packages/sklearn/linear_model/logistic.py:433: FutureWarning: Default solver will be changed to 'lbfgs' in 0.22. Specify a solver to silence this warning.\n",
      "  FutureWarning)\n",
      "/opt/conda/lib/python3.6/site-packages/sklearn/linear_model/logistic.py:460: FutureWarning: Default multi_class will be changed to 'auto' in 0.22. Specify the multi_class option to silence this warning.\n",
      "  \"this warning.\", FutureWarning)\n"
     ]
    }
   ],
   "source": [
    "from sklearn.linear_model import LogisticRegression\n",
    "logreg = LogisticRegression()\n",
    "logreg.fit(X_train, y_train)\n",
    "print('Accuracy of Logistic regression classifier on training set: {:.2f}'\n",
    "     .format(logreg.score(X_train, y_train)))\n",
    "print('Accuracy of Logistic regression classifier on test set: {:.2f}'\n",
    "     .format(logreg.score(X_test, y_test)))"
   ]
  },
  {
   "cell_type": "code",
   "execution_count": 7,
   "metadata": {},
   "outputs": [
    {
     "name": "stdout",
     "output_type": "stream",
     "text": [
      "Accuracy of Decision Tree classifier on training set: 0.98\n",
      "Accuracy of Decision Tree classifier on test set: 0.95\n"
     ]
    }
   ],
   "source": [
    "from sklearn.tree import DecisionTreeClassifier\n",
    "clf = DecisionTreeClassifier().fit(X_train, y_train)\n",
    "print('Accuracy of Decision Tree classifier on training set: {:.2f}'\n",
    "     .format(clf.score(X_train, y_train)))\n",
    "print('Accuracy of Decision Tree classifier on test set: {:.2f}'\n",
    "     .format(clf.score(X_test, y_test)))"
   ]
  },
  {
   "cell_type": "code",
   "execution_count": 8,
   "metadata": {},
   "outputs": [
    {
     "name": "stdout",
     "output_type": "stream",
     "text": [
      "Accuracy of K-NN classifier on training set: 0.93\n",
      "Accuracy of K-NN classifier on test set: 0.90\n"
     ]
    }
   ],
   "source": [
    "from sklearn.neighbors import KNeighborsClassifier\n",
    "knn = KNeighborsClassifier()\n",
    "knn.fit(X_train, y_train)\n",
    "print('Accuracy of K-NN classifier on training set: {:.2f}'\n",
    "     .format(knn.score(X_train, y_train)))\n",
    "print('Accuracy of K-NN classifier on test set: {:.2f}'\n",
    "     .format(knn.score(X_test, y_test)))"
   ]
  },
  {
   "cell_type": "code",
   "execution_count": 9,
   "metadata": {},
   "outputs": [
    {
     "name": "stdout",
     "output_type": "stream",
     "text": [
      "Accuracy of LDA classifier on training set: 0.72\n",
      "Accuracy of LDA classifier on test set: 0.79\n"
     ]
    }
   ],
   "source": [
    "from sklearn.discriminant_analysis import LinearDiscriminantAnalysis\n",
    "lda = LinearDiscriminantAnalysis()\n",
    "lda.fit(X_train, y_train)\n",
    "print('Accuracy of LDA classifier on training set: {:.2f}'\n",
    "     .format(lda.score(X_train, y_train)))\n",
    "print('Accuracy of LDA classifier on test set: {:.2f}'\n",
    "     .format(lda.score(X_test, y_test)))"
   ]
  },
  {
   "cell_type": "code",
   "execution_count": 10,
   "metadata": {},
   "outputs": [
    {
     "name": "stdout",
     "output_type": "stream",
     "text": [
      "Accuracy of GNB classifier on training set: 0.66\n",
      "Accuracy of GNB classifier on test set: 0.70\n"
     ]
    }
   ],
   "source": [
    "from sklearn.naive_bayes import GaussianNB\n",
    "gnb = GaussianNB()\n",
    "gnb.fit(X_train, y_train)\n",
    "print('Accuracy of GNB classifier on training set: {:.2f}'\n",
    "     .format(gnb.score(X_train, y_train)))\n",
    "print('Accuracy of GNB classifier on test set: {:.2f}'\n",
    "     .format(gnb.score(X_test, y_test)))"
   ]
  },
  {
   "cell_type": "code",
   "execution_count": 11,
   "metadata": {},
   "outputs": [
    {
     "name": "stdout",
     "output_type": "stream",
     "text": [
      "Accuracy of SVM classifier on training set: 0.97\n",
      "Accuracy of SVM classifier on test set: 0.89\n"
     ]
    },
    {
     "name": "stderr",
     "output_type": "stream",
     "text": [
      "/opt/conda/lib/python3.6/site-packages/sklearn/svm/base.py:196: FutureWarning: The default value of gamma will change from 'auto' to 'scale' in version 0.22 to account better for unscaled features. Set gamma explicitly to 'auto' or 'scale' to avoid this warning.\n",
      "  \"avoid this warning.\", FutureWarning)\n"
     ]
    }
   ],
   "source": [
    "from sklearn.svm import SVC\n",
    "svm = SVC()\n",
    "svm.fit(X_train, y_train)\n",
    "print('Accuracy of SVM classifier on training set: {:.2f}'\n",
    "     .format(svm.score(X_train, y_train)))\n",
    "print('Accuracy of SVM classifier on test set: {:.2f}'\n",
    "     .format(svm.score(X_test, y_test)))"
   ]
  },
  {
   "cell_type": "code",
   "execution_count": 56,
   "metadata": {},
   "outputs": [],
   "source": [
    "tmp = np.append(data, data[:, -1] == -1, axis=1)\n",
    "tmp = np.append(tmp, data[:, -1] == 0, axis=1)\n",
    "d1 = np.append(tmp, data[:, -1] == 1, axis=1)"
   ]
  },
  {
   "cell_type": "code",
   "execution_count": 55,
   "metadata": {},
   "outputs": [],
   "source": [
    "import math\n",
    "import torch\n",
    "import torch.nn.functional as F\n",
    "import numpy as np\n",
    "from torch import nn, optim"
   ]
  },
  {
   "cell_type": "code",
   "execution_count": 100,
   "metadata": {},
   "outputs": [
    {
     "name": "stdout",
     "output_type": "stream",
     "text": [
      "tensor([184., 186., 199.]) tensor([1., 0., 0.])\n",
      "tensor([184., 185., 198.]) tensor([1., 0., 0.])\n",
      "tensor([184., 185., 197.]) tensor([1., 0., 0.])\n",
      "tensor([184., 185., 196.]) tensor([1., 0., 0.])\n",
      "tensor([185., 184., 195.]) tensor([1., 0., 0.])\n",
      "tensor([186., 206., 200.]) tensor([0., 1., 0.])\n",
      "tensor([186., 206., 200.]) tensor([0., 1., 0.])\n",
      "tensor([185., 203., 200.]) tensor([0., 1., 0.])\n",
      "tensor([185., 203., 200.]) tensor([0., 1., 0.])\n",
      "tensor([185., 203., 200.]) tensor([0., 1., 0.])\n",
      "tensor([205., 204., 132.]) tensor([0., 0., 1.])\n",
      "tensor([205., 204., 133.]) tensor([0., 0., 1.])\n",
      "tensor([205., 204., 134.]) tensor([0., 0., 1.])\n",
      "tensor([204., 205., 135.]) tensor([0., 0., 1.])\n",
      "tensor([204., 205., 136.]) tensor([0., 0., 1.])\n"
     ]
    }
   ],
   "source": [
    "X = torch.tensor(d1[:, 0:3], dtype=torch.float)\n",
    "y = torch.tensor(d1[:, 4:], dtype=torch.float)\n",
    "\n",
    "counter = 0\n",
    "for i in range(X.shape[0]):\n",
    "    if y[i, 0] == 1:\n",
    "        print(X[i, :], y[i, :])\n",
    "        counter += 1\n",
    "        if counter == 5:\n",
    "            break;\n",
    "            \n",
    "counter = 0\n",
    "for i in range(X.shape[0]):\n",
    "    if y[i, 1] == 1:\n",
    "        print(X[i, :], y[i, :])\n",
    "        counter += 1\n",
    "        if counter == 5:\n",
    "            break;    \n",
    "            \n",
    "counter = 0\n",
    "for i in range(X.shape[0]):\n",
    "    if y[i, 2] == 1:\n",
    "        print(X[i, :], y[i, :])\n",
    "        counter += 1\n",
    "        if counter == 5:\n",
    "            break;            "
   ]
  },
  {
   "cell_type": "code",
   "execution_count": 178,
   "metadata": {},
   "outputs": [],
   "source": [
    "class Net(nn.Module):\n",
    "    def __init__(self):\n",
    "        super().__init__()\n",
    "        self.model = nn.Sequential(\n",
    "            nn.Linear(3, 2),\n",
    "            nn.ReLU(),\n",
    "            nn.Linear(2, 3)\n",
    "        )\n",
    "\n",
    "    def forward(self, xb):\n",
    "        return self.model(xb)"
   ]
  },
  {
   "cell_type": "code",
   "execution_count": 179,
   "metadata": {},
   "outputs": [],
   "source": [
    "model = Net()\n",
    "lr = 1e-6\n",
    "opt = optim.SGD(model.parameters(), lr=lr)\n",
    "loss_func = F.mse_loss"
   ]
  },
  {
   "cell_type": "code",
   "execution_count": 180,
   "metadata": {},
   "outputs": [
    {
     "name": "stdout",
     "output_type": "stream",
     "text": [
      "tensor(27.8991, grad_fn=<MseLossBackward>)\n",
      "tensor(0.2319, grad_fn=<MseLossBackward>)\n",
      "tensor(0.2300, grad_fn=<MseLossBackward>)\n",
      "tensor(0.2282, grad_fn=<MseLossBackward>)\n",
      "tensor(0.2264, grad_fn=<MseLossBackward>)\n",
      "tensor(0.2246, grad_fn=<MseLossBackward>)\n",
      "tensor(0.2228, grad_fn=<MseLossBackward>)\n",
      "tensor(0.2211, grad_fn=<MseLossBackward>)\n",
      "tensor(0.2194, grad_fn=<MseLossBackward>)\n",
      "tensor(0.2177, grad_fn=<MseLossBackward>)\n",
      "tensor(0.2160, grad_fn=<MseLossBackward>)\n",
      "tensor(0.2144, grad_fn=<MseLossBackward>)\n",
      "tensor(0.2128, grad_fn=<MseLossBackward>)\n",
      "tensor(0.2112, grad_fn=<MseLossBackward>)\n",
      "tensor(0.2096, grad_fn=<MseLossBackward>)\n",
      "tensor(0.2081, grad_fn=<MseLossBackward>)\n",
      "tensor(0.2066, grad_fn=<MseLossBackward>)\n",
      "tensor(0.2051, grad_fn=<MseLossBackward>)\n",
      "tensor(0.2036, grad_fn=<MseLossBackward>)\n",
      "tensor(0.2021, grad_fn=<MseLossBackward>)\n"
     ]
    }
   ],
   "source": [
    "n = X.size()[0]\n",
    "\n",
    "bs = 50\n",
    "\n",
    "for epoch in range(10000):\n",
    "    for i in range((n - 1) // bs + 1):\n",
    "        start_i = i * bs\n",
    "        end_i = start_i + bs\n",
    "        xb = X[start_i:end_i]\n",
    "        yb = y[start_i:end_i]\n",
    "        pred = model(xb)\n",
    "        loss = loss_func(pred, yb)\n",
    "        loss.backward()\n",
    "        opt.step()\n",
    "        opt.zero_grad()\n",
    "        \n",
    "    if epoch % 500 == 0:\n",
    "        print(loss)"
   ]
  },
  {
   "cell_type": "code",
   "execution_count": 181,
   "metadata": {},
   "outputs": [
    {
     "name": "stdout",
     "output_type": "stream",
     "text": [
      "tensor([-0.3715,  0.4477,  0.3988], grad_fn=<AddBackward0>)\n",
      "tensor([-0.3715,  0.4477,  0.3988], grad_fn=<AddBackward0>)\n",
      "tensor([-0.3715,  0.4477,  0.3988], grad_fn=<AddBackward0>)\n"
     ]
    }
   ],
   "source": [
    "# left\n",
    "print(model(torch.tensor([184., 186., 199.], dtype=torch.float)))\n",
    "# straight\n",
    "print(model(torch.tensor([185., 203., 200.], dtype=torch.float)))\n",
    "# right\n",
    "print(model(torch.tensor([205., 204., 134.], dtype=torch.float)))"
   ]
  },
  {
   "cell_type": "code",
   "execution_count": null,
   "metadata": {},
   "outputs": [],
   "source": []
  }
 ],
 "metadata": {
  "kernelspec": {
   "display_name": "Python 3",
   "language": "python",
   "name": "python3"
  },
  "language_info": {
   "codemirror_mode": {
    "name": "ipython",
    "version": 3
   },
   "file_extension": ".py",
   "mimetype": "text/x-python",
   "name": "python",
   "nbconvert_exporter": "python",
   "pygments_lexer": "ipython3",
   "version": "3.6.7"
  }
 },
 "nbformat": 4,
 "nbformat_minor": 2
}
