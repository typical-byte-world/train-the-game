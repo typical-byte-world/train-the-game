{
 "cells": [
  {
   "cell_type": "code",
   "execution_count": 69,
   "metadata": {},
   "outputs": [],
   "source": [
    "import math\n",
    "import torch\n",
    "import torch.nn.functional as F\n",
    "import numpy as np\n",
    "from torch import nn\n",
    "from torch.autograd import Variable"
   ]
  },
  {
   "cell_type": "code",
   "execution_count": 76,
   "metadata": {},
   "outputs": [
    {
     "data": {
      "text/plain": [
       "31"
      ]
     },
     "execution_count": 76,
     "metadata": {},
     "output_type": "execute_result"
    }
   ],
   "source": [
    "def load_data(filename):\n",
    "    data = []\n",
    "    with open(filename) as f:\n",
    "        for line in f.readlines():\n",
    "            line = list(map(float, line.strip().split(\" \")))\n",
    "            data.append(line)\n",
    "    data = np.matrix(data)\n",
    "    X = data[:, 0:2]\n",
    "    y = data[:, 2]\n",
    "    return torch.tensor(X, dtype=torch.float), torch.tensor(y, dtype=torch.float)\n",
    "\n",
    "X, y = load_data(\"data.txt\")"
   ]
  },
  {
   "cell_type": "code",
   "execution_count": 91,
   "metadata": {},
   "outputs": [],
   "source": [
    "class LinearRegression(nn.Module):\n",
    "    def __init__(self):\n",
    "        super().__init__()\n",
    "        self.weights = nn.Parameter(torch.randn(2, 1) / math.sqrt(2))\n",
    "        self.bias = nn.Parameter(torch.zeros(1))\n",
    "\n",
    "    def forward(self, xb):\n",
    "        return xb @ self.weights + self.bias"
   ]
  },
  {
   "cell_type": "code",
   "execution_count": 102,
   "metadata": {},
   "outputs": [],
   "source": [
    "model = LinearRegression()\n",
    "loss_func = F.mse_loss"
   ]
  },
  {
   "cell_type": "code",
   "execution_count": 120,
   "metadata": {},
   "outputs": [
    {
     "name": "stdout",
     "output_type": "stream",
     "text": [
      "tensor(42.5886, grad_fn=<MseLossBackward>)\n",
      "tensor(17.4417, grad_fn=<MseLossBackward>)\n",
      "tensor(16.4542, grad_fn=<MseLossBackward>)\n",
      "tensor(16.0689, grad_fn=<MseLossBackward>)\n",
      "tensor(15.7309, grad_fn=<MseLossBackward>)\n",
      "tensor(15.4338, grad_fn=<MseLossBackward>)\n",
      "tensor(15.1723, grad_fn=<MseLossBackward>)\n",
      "tensor(14.9418, grad_fn=<MseLossBackward>)\n",
      "tensor(14.7385, grad_fn=<MseLossBackward>)\n",
      "tensor(14.5590, grad_fn=<MseLossBackward>)\n",
      "tensor(14.4004, grad_fn=<MseLossBackward>)\n",
      "tensor(14.2600, grad_fn=<MseLossBackward>)\n",
      "tensor(14.1358, grad_fn=<MseLossBackward>)\n",
      "tensor(14.0257, grad_fn=<MseLossBackward>)\n",
      "tensor(13.9282, grad_fn=<MseLossBackward>)\n",
      "tensor(13.8417, grad_fn=<MseLossBackward>)\n",
      "tensor(13.7649, grad_fn=<MseLossBackward>)\n",
      "tensor(13.6968, grad_fn=<MseLossBackward>)\n",
      "tensor(13.6362, grad_fn=<MseLossBackward>)\n",
      "tensor(13.5825, grad_fn=<MseLossBackward>)\n",
      "tensor(13.5347, grad_fn=<MseLossBackward>)\n",
      "tensor(13.4922, grad_fn=<MseLossBackward>)\n",
      "tensor(13.4544, grad_fn=<MseLossBackward>)\n",
      "tensor(13.4209, grad_fn=<MseLossBackward>)\n",
      "tensor(13.3910, grad_fn=<MseLossBackward>)\n",
      "tensor(13.3644, grad_fn=<MseLossBackward>)\n",
      "tensor(13.3407, grad_fn=<MseLossBackward>)\n",
      "tensor(13.3197, grad_fn=<MseLossBackward>)\n",
      "tensor(13.3010, grad_fn=<MseLossBackward>)\n",
      "tensor(13.2843, grad_fn=<MseLossBackward>)\n",
      "tensor(13.2694, grad_fn=<MseLossBackward>)\n",
      "tensor(13.2562, grad_fn=<MseLossBackward>)\n",
      "tensor(13.2444, grad_fn=<MseLossBackward>)\n",
      "tensor(13.2339, grad_fn=<MseLossBackward>)\n",
      "tensor(13.2246, grad_fn=<MseLossBackward>)\n",
      "tensor(13.2163, grad_fn=<MseLossBackward>)\n",
      "tensor(13.2090, grad_fn=<MseLossBackward>)\n",
      "tensor(13.2024, grad_fn=<MseLossBackward>)\n",
      "tensor(13.1963, grad_fn=<MseLossBackward>)\n",
      "tensor(13.1912, grad_fn=<MseLossBackward>)\n",
      "tensor(13.1864, grad_fn=<MseLossBackward>)\n"
     ]
    }
   ],
   "source": [
    "print(loss_func(model(X), y))\n",
    "n = X.size()[0]\n",
    "lr = 1e-7\n",
    "bs = 50\n",
    "\n",
    "for epoch in range(2000):\n",
    "    for i in range((n - 1) // bs + 1):\n",
    "        start_i = i * bs\n",
    "        end_i = start_i + bs\n",
    "        xb = X[start_i:end_i]\n",
    "        yb = y[start_i:end_i]\n",
    "        pred = model(xb)\n",
    "        loss = loss_func(pred, yb)\n",
    "        loss.backward()\n",
    "        with torch.no_grad():\n",
    "            for p in model.parameters():\n",
    "                p -= p.grad * lr\n",
    "            model.zero_grad()\n",
    "    if epoch%50 == 0:\n",
    "        print(loss)"
   ]
  },
  {
   "cell_type": "code",
   "execution_count": 108,
   "metadata": {},
   "outputs": [],
   "source": [
    "import matplotlib.pyplot as pp"
   ]
  },
  {
   "cell_type": "code",
   "execution_count": 121,
   "metadata": {},
   "outputs": [
    {
     "data": {
      "text/plain": [
       "[<matplotlib.lines.Line2D at 0x7f24b74c8f98>]"
      ]
     },
     "execution_count": 121,
     "metadata": {},
     "output_type": "execute_result"
    },
    {
     "data": {
      "image/png": "[encoded data removed]",
      "text/plain": [
       "<Figure size 432x288 with 1 Axes>"
      ]
     },
     "metadata": {
      "needs_background": "light"
     },
     "output_type": "display_data"
    }
   ],
   "source": [
    "# pp.plot(X[:, 0])\n",
    "# pp.plot(X[:, 1])\n",
    "pp.plot(y)\n",
    "y_pred = model(X)\n",
    "pp.plot(y_pred.detach().numpy())"
   ]
  },
  {
   "cell_type": "code",
   "execution_count": null,
   "metadata": {},
   "outputs": [],
   "source": []
  }
 ],
 "metadata": {
  "kernelspec": {
   "display_name": "Python 3",
   "language": "python",
   "name": "python3"
  },
  "language_info": {
   "codemirror_mode": {
    "name": "ipython",
    "version": 3
   },
   "file_extension": ".py",
   "mimetype": "text/x-python",
   "name": "python",
   "nbconvert_exporter": "python",
   "pygments_lexer": "ipython3",
   "version": "3.6.7"
  }
 },
 "nbformat": 4,
 "nbformat_minor": 2
}
