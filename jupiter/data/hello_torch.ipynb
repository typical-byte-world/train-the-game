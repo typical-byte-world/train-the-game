{
 "cells": [
  {
   "cell_type": "code",
   "execution_count": 126,
   "metadata": {},
   "outputs": [],
   "source": [
    "import math\n",
    "import torch\n",
    "import torch.nn.functional as F\n",
    "import numpy as np\n",
    "from torch import nn, optim"
   ]
  },
  {
   "cell_type": "code",
   "execution_count": 76,
   "metadata": {},
   "outputs": [
    {
     "data": {
      "text/plain": [
       "31"
      ]
     },
     "execution_count": 76,
     "metadata": {},
     "output_type": "execute_result"
    }
   ],
   "source": [
    "def load_data(filename):\n",
    "    data = []\n",
    "    with open(filename) as f:\n",
    "        for line in f.readlines():\n",
    "            line = list(map(float, line.strip().split(\" \")))\n",
    "            data.append(line)\n",
    "    data = np.matrix(data)\n",
    "    X = data[:, 0:2]\n",
    "    y = data[:, 2]\n",
    "    return torch.tensor(X, dtype=torch.float), torch.tensor(y, dtype=torch.float)\n",
    "\n",
    "X, y = load_data(\"data.txt\")"
   ]
  },
  {
   "cell_type": "code",
   "execution_count": 140,
   "metadata": {},
   "outputs": [],
   "source": [
    "class LinearRegression(nn.Module):\n",
    "    def __init__(self):\n",
    "        super().__init__()\n",
    "        self.model = nn.Sequential(\n",
    "            nn.Linear(2, 7),\n",
    "            nn.ReLU(),\n",
    "            nn.Linear(7, 5),\n",
    "            nn.ReLU(),\n",
    "            nn.Linear(5, 1)\n",
    "        )\n",
    "\n",
    "    def forward(self, xb):\n",
    "        return self.model(xb)"
   ]
  },
  {
   "cell_type": "code",
   "execution_count": 141,
   "metadata": {},
   "outputs": [],
   "source": [
    "model = LinearRegression()\n",
    "lr = 1e-7\n",
    "opt = optim.SGD(model.parameters(), lr=lr)\n",
    "loss_func = F.mse_loss"
   ]
  },
  {
   "cell_type": "code",
   "execution_count": 142,
   "metadata": {},
   "outputs": [
    {
     "name": "stdout",
     "output_type": "stream",
     "text": [
      "tensor(61.9113, grad_fn=<MseLossBackward>)\n",
      "tensor(35.0172, grad_fn=<MseLossBackward>)\n",
      "tensor(16.9747, grad_fn=<MseLossBackward>)\n",
      "tensor(12.9215, grad_fn=<MseLossBackward>)\n",
      "tensor(11.4325, grad_fn=<MseLossBackward>)\n",
      "tensor(10.5421, grad_fn=<MseLossBackward>)\n",
      "tensor(9.8480, grad_fn=<MseLossBackward>)\n",
      "tensor(9.2421, grad_fn=<MseLossBackward>)\n",
      "tensor(8.6898, grad_fn=<MseLossBackward>)\n",
      "tensor(8.1955, grad_fn=<MseLossBackward>)\n",
      "tensor(7.7501, grad_fn=<MseLossBackward>)\n",
      "tensor(7.3491, grad_fn=<MseLossBackward>)\n",
      "tensor(6.9926, grad_fn=<MseLossBackward>)\n",
      "tensor(6.6700, grad_fn=<MseLossBackward>)\n",
      "tensor(6.3774, grad_fn=<MseLossBackward>)\n",
      "tensor(6.0975, grad_fn=<MseLossBackward>)\n",
      "tensor(5.8373, grad_fn=<MseLossBackward>)\n",
      "tensor(5.5923, grad_fn=<MseLossBackward>)\n",
      "tensor(5.3490, grad_fn=<MseLossBackward>)\n",
      "tensor(5.1336, grad_fn=<MseLossBackward>)\n",
      "tensor(4.9330, grad_fn=<MseLossBackward>)\n",
      "tensor(4.7572, grad_fn=<MseLossBackward>)\n",
      "tensor(4.6031, grad_fn=<MseLossBackward>)\n",
      "tensor(4.4680, grad_fn=<MseLossBackward>)\n",
      "tensor(4.3605, grad_fn=<MseLossBackward>)\n",
      "tensor(4.2698, grad_fn=<MseLossBackward>)\n",
      "tensor(4.2053, grad_fn=<MseLossBackward>)\n",
      "tensor(4.1551, grad_fn=<MseLossBackward>)\n",
      "tensor(4.1224, grad_fn=<MseLossBackward>)\n",
      "tensor(4.1015, grad_fn=<MseLossBackward>)\n",
      "tensor(4.0926, grad_fn=<MseLossBackward>)\n",
      "tensor(4.0958, grad_fn=<MseLossBackward>)\n",
      "tensor(4.1071, grad_fn=<MseLossBackward>)\n",
      "tensor(4.1255, grad_fn=<MseLossBackward>)\n",
      "tensor(4.1520, grad_fn=<MseLossBackward>)\n",
      "tensor(4.1849, grad_fn=<MseLossBackward>)\n",
      "tensor(4.2268, grad_fn=<MseLossBackward>)\n",
      "tensor(4.2728, grad_fn=<MseLossBackward>)\n",
      "tensor(4.3247, grad_fn=<MseLossBackward>)\n",
      "tensor(4.3819, grad_fn=<MseLossBackward>)\n",
      "tensor(4.4423, grad_fn=<MseLossBackward>)\n"
     ]
    }
   ],
   "source": [
    "print(loss_func(model(X), y))\n",
    "n = X.size()[0]\n",
    "\n",
    "bs = 50\n",
    "\n",
    "for epoch in range(2000):\n",
    "    for i in range((n - 1) // bs + 1):\n",
    "        start_i = i * bs\n",
    "        end_i = start_i + bs\n",
    "        xb = X[start_i:end_i]\n",
    "        yb = y[start_i:end_i]\n",
    "        pred = model(xb)\n",
    "        loss = loss_func(pred, yb)\n",
    "        loss.backward()\n",
    "        opt.step()\n",
    "        opt.zero_grad()\n",
    "        \n",
    "    if epoch%50 == 0:\n",
    "        print(loss)"
   ]
  },
  {
   "cell_type": "code",
   "execution_count": 108,
   "metadata": {},
   "outputs": [],
   "source": [
    "import matplotlib.pyplot as pp"
   ]
  },
  {
   "cell_type": "code",
   "execution_count": 143,
   "metadata": {},
   "outputs": [
    {
     "data": {
      "text/plain": [
       "[<matplotlib.lines.Line2D at 0x7f24b7226358>]"
      ]
     },
     "execution_count": 143,
     "metadata": {},
     "output_type": "execute_result"
    },
    {
     "data": {
      "image/png": "[encoded data removed]",
      "text/plain": [
       "<Figure size 432x288 with 1 Axes>"
      ]
     },
     "metadata": {
      "needs_background": "light"
     },
     "output_type": "display_data"
    }
   ],
   "source": [
    "# pp.plot(X[:, 0])\n",
    "# pp.plot(X[:, 1])\n",
    "pp.plot(y)\n",
    "y_pred = model(X)\n",
    "pp.plot(y_pred.detach().numpy())"
   ]
  },
  {
   "cell_type": "code",
   "execution_count": null,
   "metadata": {},
   "outputs": [],
   "source": []
  }
 ],
 "metadata": {
  "kernelspec": {
   "display_name": "Python 3",
   "language": "python",
   "name": "python3"
  },
  "language_info": {
   "codemirror_mode": {
    "name": "ipython",
    "version": 3
   },
   "file_extension": ".py",
   "mimetype": "text/x-python",
   "name": "python",
   "nbconvert_exporter": "python",
   "pygments_lexer": "ipython3",
   "version": "3.6.7"
  }
 },
 "nbformat": 4,
 "nbformat_minor": 2
}
