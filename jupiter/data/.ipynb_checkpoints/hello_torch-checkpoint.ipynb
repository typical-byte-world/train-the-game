{
 "cells": [
  {
   "cell_type": "code",
   "execution_count": 126,
   "metadata": {},
   "outputs": [],
   "source": [
    "import math\n",
    "import torch\n",
    "import torch.nn.functional as F\n",
    "import numpy as np\n",
    "from torch import nn, optim\n",
    "from torch.autograd import Variable"
   ]
  },
  {
   "cell_type": "code",
   "execution_count": 76,
   "metadata": {},
   "outputs": [
    {
     "data": {
      "text/plain": [
       "31"
      ]
     },
     "execution_count": 76,
     "metadata": {},
     "output_type": "execute_result"
    }
   ],
   "source": [
    "def load_data(filename):\n",
    "    data = []\n",
    "    with open(filename) as f:\n",
    "        for line in f.readlines():\n",
    "            line = list(map(float, line.strip().split(\" \")))\n",
    "            data.append(line)\n",
    "    data = np.matrix(data)\n",
    "    X = data[:, 0:2]\n",
    "    y = data[:, 2]\n",
    "    return torch.tensor(X, dtype=torch.float), torch.tensor(y, dtype=torch.float)\n",
    "\n",
    "X, y = load_data(\"data.txt\")"
   ]
  },
  {
   "cell_type": "code",
   "execution_count": 131,
   "metadata": {},
   "outputs": [],
   "source": [
    "class LinearRegression(nn.Module):\n",
    "    def __init__(self):\n",
    "        super().__init__()\n",
    "        self.model = nn.Sequential(\n",
    "            nn.Linear(2, 5),\n",
    "            nn.ReLU(),\n",
    "            nn.Linear(5, 3),\n",
    "            nn.ReLU(),\n",
    "            nn.Linear(3, 1)\n",
    "        )\n",
    "\n",
    "    def forward(self, xb):\n",
    "        return self.model(xb)"
   ]
  },
  {
   "cell_type": "code",
   "execution_count": 132,
   "metadata": {},
   "outputs": [],
   "source": [
    "model = LinearRegression()\n",
    "lr = 1e-7\n",
    "opt = optim.SGD(model.parameters(), lr=lr)\n",
    "loss_func = F.mse_loss"
   ]
  },
  {
   "cell_type": "code",
   "execution_count": 133,
   "metadata": {},
   "outputs": [
    {
     "name": "stdout",
     "output_type": "stream",
     "text": [
      "tensor(160.6483, grad_fn=<MseLossBackward>)\n",
      "tensor(132.8090, grad_fn=<MseLossBackward>)\n",
      "tensor(9.4419, grad_fn=<MseLossBackward>)\n",
      "tensor(9.5215, grad_fn=<MseLossBackward>)\n",
      "tensor(9.6541, grad_fn=<MseLossBackward>)\n",
      "tensor(9.8266, grad_fn=<MseLossBackward>)\n",
      "tensor(9.8948, grad_fn=<MseLossBackward>)\n",
      "tensor(9.8944, grad_fn=<MseLossBackward>)\n",
      "tensor(9.8940, grad_fn=<MseLossBackward>)\n",
      "tensor(9.9036, grad_fn=<MseLossBackward>)\n",
      "tensor(10.0237, grad_fn=<MseLossBackward>)\n",
      "tensor(10.1554, grad_fn=<MseLossBackward>)\n",
      "tensor(10.3872, grad_fn=<MseLossBackward>)\n",
      "tensor(10.6504, grad_fn=<MseLossBackward>)\n",
      "tensor(10.8365, grad_fn=<MseLossBackward>)\n",
      "tensor(10.9506, grad_fn=<MseLossBackward>)\n",
      "tensor(11.0342, grad_fn=<MseLossBackward>)\n",
      "tensor(11.0955, grad_fn=<MseLossBackward>)\n",
      "tensor(11.1403, grad_fn=<MseLossBackward>)\n",
      "tensor(11.1734, grad_fn=<MseLossBackward>)\n",
      "tensor(11.2198, grad_fn=<MseLossBackward>)\n",
      "tensor(11.1949, grad_fn=<MseLossBackward>)\n",
      "tensor(11.1803, grad_fn=<MseLossBackward>)\n",
      "tensor(11.1906, grad_fn=<MseLossBackward>)\n",
      "tensor(11.2546, grad_fn=<MseLossBackward>)\n",
      "tensor(11.3220, grad_fn=<MseLossBackward>)\n",
      "tensor(11.3971, grad_fn=<MseLossBackward>)\n",
      "tensor(11.5085, grad_fn=<MseLossBackward>)\n",
      "tensor(11.5927, grad_fn=<MseLossBackward>)\n",
      "tensor(11.6559, grad_fn=<MseLossBackward>)\n",
      "tensor(11.7030, grad_fn=<MseLossBackward>)\n",
      "tensor(11.7076, grad_fn=<MseLossBackward>)\n",
      "tensor(11.7029, grad_fn=<MseLossBackward>)\n",
      "tensor(11.7272, grad_fn=<MseLossBackward>)\n",
      "tensor(11.7389, grad_fn=<MseLossBackward>)\n",
      "tensor(11.7515, grad_fn=<MseLossBackward>)\n",
      "tensor(11.7612, grad_fn=<MseLossBackward>)\n",
      "tensor(11.7689, grad_fn=<MseLossBackward>)\n",
      "tensor(11.7749, grad_fn=<MseLossBackward>)\n",
      "tensor(11.7798, grad_fn=<MseLossBackward>)\n",
      "tensor(11.8137, grad_fn=<MseLossBackward>)\n"
     ]
    }
   ],
   "source": [
    "print(loss_func(model(X), y))\n",
    "n = X.size()[0]\n",
    "\n",
    "bs = 50\n",
    "\n",
    "for epoch in range(2000):\n",
    "    for i in range((n - 1) // bs + 1):\n",
    "        start_i = i * bs\n",
    "        end_i = start_i + bs\n",
    "        xb = X[start_i:end_i]\n",
    "        yb = y[start_i:end_i]\n",
    "        pred = model(xb)\n",
    "        loss = loss_func(pred, yb)\n",
    "        loss.backward()\n",
    "        opt.step()\n",
    "        opt.zero_grad()\n",
    "        \n",
    "    if epoch%50 == 0:\n",
    "        print(loss)"
   ]
  },
  {
   "cell_type": "code",
   "execution_count": 108,
   "metadata": {},
   "outputs": [],
   "source": [
    "import matplotlib.pyplot as pp"
   ]
  },
  {
   "cell_type": "code",
   "execution_count": 134,
   "metadata": {},
   "outputs": [
    {
     "data": {
      "text/plain": [
       "[<matplotlib.lines.Line2D at 0x7f24b7379a90>]"
      ]
     },
     "execution_count": 134,
     "metadata": {},
     "output_type": "execute_result"
    },
    {
     "data": {
      "image/png": "[encoded data removed]",
      "text/plain": [
       "<Figure size 432x288 with 1 Axes>"
      ]
     },
     "metadata": {
      "needs_background": "light"
     },
     "output_type": "display_data"
    }
   ],
   "source": [
    "# pp.plot(X[:, 0])\n",
    "# pp.plot(X[:, 1])\n",
    "pp.plot(y)\n",
    "y_pred = model(X)\n",
    "pp.plot(y_pred.detach().numpy())"
   ]
  },
  {
   "cell_type": "code",
   "execution_count": null,
   "metadata": {},
   "outputs": [],
   "source": []
  }
 ],
 "metadata": {
  "kernelspec": {
   "display_name": "Python 3",
   "language": "python",
   "name": "python3"
  },
  "language_info": {
   "codemirror_mode": {
    "name": "ipython",
    "version": 3
   },
   "file_extension": ".py",
   "mimetype": "text/x-python",
   "name": "python",
   "nbconvert_exporter": "python",
   "pygments_lexer": "ipython3",
   "version": "3.6.7"
  }
 },
 "nbformat": 4,
 "nbformat_minor": 2
}
